{
 "cells": [
  {
   "cell_type": "code",
   "execution_count": 4,
   "id": "bbe12262-2d16-4d58-b44c-ac6881eafd16",
   "metadata": {},
   "outputs": [
    {
     "name": "stdout",
     "output_type": "stream",
     "text": [
      "The first person to land on the moon was Neil Armstrong. He stepped out of the lunar module Eagle and onto the moon's surface on July 20, 1969, during the Apollo 11 mission. Armstrong famously declared, \"That's one small step for man, one giant leap for mankind,\" as he became the first human to set foot on the moon.\n"
     ]
    }
   ],
   "source": [
    "from langchain_groq import ChatGroq\n",
    "\n",
    "llm = ChatGroq(\n",
    "    temperature=0,\n",
    "    model_name=\"llama-3.3-70b-versatile\",\n",
    "    groq_api_key= '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',\n",
    "    max_tokens=None,\n",
    "    timeout=None\n",
    ")\n",
    "\n",
    "responce = llm.invoke(\"The first person to land on moon was...\")\n",
    "print(responce.content)"
   ]
  },
  {
   "cell_type": "code",
   "execution_count": null,
   "id": "1619dd7e-52e4-402b-909d-e7b3ebb9e0f7",
   "metadata": {},
   "outputs": [],
   "source": []
  }
 ],
 "metadata": {
  "kernelspec": {
   "display_name": "Python 3 (ipykernel)",
   "language": "python",
   "name": "python3"
  },
  "language_info": {
   "codemirror_mode": {
    "name": "ipython",
    "version": 3
   },
   "file_extension": ".py",
   "mimetype": "text/x-python",
   "name": "python",
   "nbconvert_exporter": "python",
   "pygments_lexer": "ipython3",
   "version": "3.13.0"
  }
 },
 "nbformat": 4,
 "nbformat_minor": 5
}
